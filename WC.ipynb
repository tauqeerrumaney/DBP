{
 "cells": [
  {
   "cell_type": "code",
   "execution_count": 2,
   "id": "c2707072",
   "metadata": {},
   "outputs": [
    {
     "name": "stdout",
     "output_type": "stream",
     "text": [
      "(16, 61, 291, 243, 4, 'result.txt')\n"
     ]
    }
   ],
   "source": [
    "#!/usr/bin/env python3\n",
    "import re\n",
    "\n",
    "def wc (filename):\n",
    "    nlines = 0\n",
    "    nwords = 0\n",
    "    nchars = 0\n",
    "    nspaces = 0\n",
    "    nlow   = 0\n",
    "    nupp   = 0\n",
    "    # open file in read mode\n",
    "    # go over every line\n",
    "    # increment nlines by one\n",
    "    with open(filename, 'r') as f:\n",
    "        for line in f:\n",
    "            nlines += 1\n",
    "            word = 'Y'\n",
    "            for letter in line:\n",
    "                if (letter != ' ' and word == 'Y'):\n",
    "                    nwords += 1\n",
    "                    word = 'N'\n",
    "                elif (letter == ' '):\n",
    "                    nspaces += 1\n",
    "                    word = 'Y'\n",
    "                for i in letter:\n",
    "                    if(i !=\" \" and i !=\"\\n\"):\n",
    "                        nchars += 1\n",
    "        f.seek(0)\n",
    "        file=f.read()\n",
    "        nupp=len(re.sub(\"[^A-Z]+\",\"\",file))\n",
    "        nlow=len(re.sub(\"[^a-z]+\",\"\",file))\n",
    "        f.close()\n",
    "    return(tuple((nlines,nwords,nchars,nlow, nupp, filename)))   \n",
    "\n",
    "# use our Python file for testing\n",
    "print(wc(\"result.txt\"))"
   ]
  },
  {
   "cell_type": "code",
   "execution_count": null,
   "id": "97ac37e2",
   "metadata": {},
   "outputs": [],
   "source": []
  },
  {
   "cell_type": "code",
   "execution_count": null,
   "id": "0af79c49",
   "metadata": {},
   "outputs": [],
   "source": []
  }
 ],
 "metadata": {
  "kernelspec": {
   "display_name": "Python 3 (ipykernel)",
   "language": "python",
   "name": "python3"
  },
  "language_info": {
   "codemirror_mode": {
    "name": "ipython",
    "version": 3
   },
   "file_extension": ".py",
   "mimetype": "text/x-python",
   "name": "python",
   "nbconvert_exporter": "python",
   "pygments_lexer": "ipython3",
   "version": "3.9.7"
  }
 },
 "nbformat": 4,
 "nbformat_minor": 5
}
